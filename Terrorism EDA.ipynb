{
 "cells": [
  {
   "cell_type": "code",
   "execution_count": 1,
   "id": "4b12a451",
   "metadata": {},
   "outputs": [],
   "source": [
    "import pandas as pd,numpy as np, matplotlib.pyplot as plt, seaborn as sns"
   ]
  },
  {
   "cell_type": "code",
   "execution_count": 2,
   "id": "bee018e8",
   "metadata": {},
   "outputs": [],
   "source": [
    "import warnings\n",
    "warnings.filterwarnings(\"ignore\")"
   ]
  },
  {
   "cell_type": "code",
   "execution_count": 3,
   "id": "420915c7",
   "metadata": {},
   "outputs": [],
   "source": [
    "df = pd.read_csv('/Users/suriyag/Downloads/globalterrorismdb_0718dist.csv', encoding='ISO-8859-1')"
   ]
  },
  {
   "cell_type": "code",
   "execution_count": 4,
   "id": "206aa309",
   "metadata": {},
   "outputs": [
    {
     "data": {
      "text/plain": [
       "(181691, 135)"
      ]
     },
     "execution_count": 4,
     "metadata": {},
     "output_type": "execute_result"
    }
   ],
   "source": [
    "df.shape"
   ]
  },
  {
   "cell_type": "code",
   "execution_count": 5,
   "id": "39c6e31d",
   "metadata": {},
   "outputs": [
    {
     "name": "stdout",
     "output_type": "stream",
     "text": [
      "gsubname3           99.99\n",
      "weaptype4           99.96\n",
      "weaptype4_txt       99.96\n",
      "weapsubtype4        99.96\n",
      "weapsubtype4_txt    99.96\n",
      "                    ...  \n",
      "multiple             0.00\n",
      "doubtterr            0.00\n",
      "crit3                0.00\n",
      "property             0.00\n",
      "eventid              0.00\n",
      "Length: 135, dtype: float64\n"
     ]
    }
   ],
   "source": [
    "#Missing values\n",
    "def missing(dff):\n",
    "    print (round((dff.isnull().sum() * 100/ len(dff)),2).sort_values(ascending=False))\n",
    "missing(df)"
   ]
  },
  {
   "cell_type": "code",
   "execution_count": 6,
   "id": "721c1b95",
   "metadata": {},
   "outputs": [
    {
     "name": "stdout",
     "output_type": "stream",
     "text": [
      "['eventid', 'iyear', 'imonth', 'iday', 'approxdate', 'extended', 'resolution', 'country', 'country_txt', 'region', 'region_txt', 'provstate', 'city', 'latitude', 'longitude', 'specificity', 'vicinity', 'location', 'summary', 'crit1', 'crit2', 'crit3', 'doubtterr', 'alternative', 'alternative_txt', 'multiple', 'success', 'suicide', 'attacktype1', 'attacktype1_txt', 'attacktype2', 'attacktype2_txt', 'attacktype3', 'attacktype3_txt', 'targtype1', 'targtype1_txt', 'targsubtype1', 'targsubtype1_txt', 'corp1', 'target1', 'natlty1', 'natlty1_txt', 'targtype2', 'targtype2_txt', 'targsubtype2', 'targsubtype2_txt', 'corp2', 'target2', 'natlty2', 'natlty2_txt', 'targtype3', 'targtype3_txt', 'targsubtype3', 'targsubtype3_txt', 'corp3', 'target3', 'natlty3', 'natlty3_txt', 'gname', 'gsubname', 'gname2', 'gsubname2', 'gname3', 'gsubname3', 'motive', 'guncertain1', 'guncertain2', 'guncertain3', 'individual', 'nperps', 'nperpcap', 'claimed', 'claimmode', 'claimmode_txt', 'claim2', 'claimmode2', 'claimmode2_txt', 'claim3', 'claimmode3', 'claimmode3_txt', 'compclaim', 'weaptype1', 'weaptype1_txt', 'weapsubtype1', 'weapsubtype1_txt', 'weaptype2', 'weaptype2_txt', 'weapsubtype2', 'weapsubtype2_txt', 'weaptype3', 'weaptype3_txt', 'weapsubtype3', 'weapsubtype3_txt', 'weaptype4', 'weaptype4_txt', 'weapsubtype4', 'weapsubtype4_txt', 'weapdetail', 'nkill', 'nkillus', 'nkillter', 'nwound', 'nwoundus', 'nwoundte', 'property', 'propextent', 'propextent_txt', 'propvalue', 'propcomment', 'ishostkid', 'nhostkid', 'nhostkidus', 'nhours', 'ndays', 'divert', 'kidhijcountry', 'ransom', 'ransomamt', 'ransomamtus', 'ransompaid', 'ransompaidus', 'ransomnote', 'hostkidoutcome', 'hostkidoutcome_txt', 'nreleased', 'addnotes', 'scite1', 'scite2', 'scite3', 'dbsource', 'INT_LOG', 'INT_IDEO', 'INT_MISC', 'INT_ANY', 'related']\n"
     ]
    }
   ],
   "source": [
    "cols = []\n",
    "for col in df.columns:\n",
    "    cols.append(col)\n",
    "print(cols)"
   ]
  },
  {
   "cell_type": "markdown",
   "id": "68ca494d",
   "metadata": {},
   "source": [
    "## All these 135 columns will not be used for EDA. Filtering out the useful attributes will be better to analyse"
   ]
  },
  {
   "cell_type": "code",
   "execution_count": 7,
   "id": "7605d4b7",
   "metadata": {},
   "outputs": [],
   "source": [
    "df_final = df[['iyear','imonth','iday','extended','region_txt','provstate','city','vicinity','success','suicide','attacktype1_txt','targtype1_txt','targsubtype1_txt','natlty1_txt','weaptype1_txt','weapsubtype1_txt','dbsource']]"
   ]
  },
  {
   "cell_type": "code",
   "execution_count": 8,
   "id": "2d6b88c8",
   "metadata": {},
   "outputs": [
    {
     "data": {
      "text/html": [
       "<div>\n",
       "<style scoped>\n",
       "    .dataframe tbody tr th:only-of-type {\n",
       "        vertical-align: middle;\n",
       "    }\n",
       "\n",
       "    .dataframe tbody tr th {\n",
       "        vertical-align: top;\n",
       "    }\n",
       "\n",
       "    .dataframe thead th {\n",
       "        text-align: right;\n",
       "    }\n",
       "</style>\n",
       "<table border=\"1\" class=\"dataframe\">\n",
       "  <thead>\n",
       "    <tr style=\"text-align: right;\">\n",
       "      <th></th>\n",
       "      <th>iyear</th>\n",
       "      <th>imonth</th>\n",
       "      <th>iday</th>\n",
       "      <th>extended</th>\n",
       "      <th>region_txt</th>\n",
       "      <th>provstate</th>\n",
       "      <th>city</th>\n",
       "      <th>vicinity</th>\n",
       "      <th>success</th>\n",
       "      <th>suicide</th>\n",
       "      <th>attacktype1_txt</th>\n",
       "      <th>targtype1_txt</th>\n",
       "      <th>targsubtype1_txt</th>\n",
       "      <th>natlty1_txt</th>\n",
       "      <th>weaptype1_txt</th>\n",
       "      <th>weapsubtype1_txt</th>\n",
       "      <th>dbsource</th>\n",
       "    </tr>\n",
       "  </thead>\n",
       "  <tbody>\n",
       "    <tr>\n",
       "      <th>0</th>\n",
       "      <td>1970</td>\n",
       "      <td>7</td>\n",
       "      <td>2</td>\n",
       "      <td>0</td>\n",
       "      <td>Central America &amp; Caribbean</td>\n",
       "      <td>NaN</td>\n",
       "      <td>Santo Domingo</td>\n",
       "      <td>0</td>\n",
       "      <td>1</td>\n",
       "      <td>0</td>\n",
       "      <td>Assassination</td>\n",
       "      <td>Private Citizens &amp; Property</td>\n",
       "      <td>Named Civilian</td>\n",
       "      <td>Dominican Republic</td>\n",
       "      <td>Unknown</td>\n",
       "      <td>NaN</td>\n",
       "      <td>PGIS</td>\n",
       "    </tr>\n",
       "    <tr>\n",
       "      <th>1</th>\n",
       "      <td>1970</td>\n",
       "      <td>0</td>\n",
       "      <td>0</td>\n",
       "      <td>0</td>\n",
       "      <td>North America</td>\n",
       "      <td>Federal</td>\n",
       "      <td>Mexico city</td>\n",
       "      <td>0</td>\n",
       "      <td>1</td>\n",
       "      <td>0</td>\n",
       "      <td>Hostage Taking (Kidnapping)</td>\n",
       "      <td>Government (Diplomatic)</td>\n",
       "      <td>Diplomatic Personnel (outside of embassy, cons...</td>\n",
       "      <td>Belgium</td>\n",
       "      <td>Unknown</td>\n",
       "      <td>NaN</td>\n",
       "      <td>PGIS</td>\n",
       "    </tr>\n",
       "    <tr>\n",
       "      <th>2</th>\n",
       "      <td>1970</td>\n",
       "      <td>1</td>\n",
       "      <td>0</td>\n",
       "      <td>0</td>\n",
       "      <td>Southeast Asia</td>\n",
       "      <td>Tarlac</td>\n",
       "      <td>Unknown</td>\n",
       "      <td>0</td>\n",
       "      <td>1</td>\n",
       "      <td>0</td>\n",
       "      <td>Assassination</td>\n",
       "      <td>Journalists &amp; Media</td>\n",
       "      <td>Radio Journalist/Staff/Facility</td>\n",
       "      <td>United States</td>\n",
       "      <td>Unknown</td>\n",
       "      <td>NaN</td>\n",
       "      <td>PGIS</td>\n",
       "    </tr>\n",
       "    <tr>\n",
       "      <th>3</th>\n",
       "      <td>1970</td>\n",
       "      <td>1</td>\n",
       "      <td>0</td>\n",
       "      <td>0</td>\n",
       "      <td>Western Europe</td>\n",
       "      <td>Attica</td>\n",
       "      <td>Athens</td>\n",
       "      <td>0</td>\n",
       "      <td>1</td>\n",
       "      <td>0</td>\n",
       "      <td>Bombing/Explosion</td>\n",
       "      <td>Government (Diplomatic)</td>\n",
       "      <td>Embassy/Consulate</td>\n",
       "      <td>United States</td>\n",
       "      <td>Explosives</td>\n",
       "      <td>Unknown Explosive Type</td>\n",
       "      <td>PGIS</td>\n",
       "    </tr>\n",
       "    <tr>\n",
       "      <th>4</th>\n",
       "      <td>1970</td>\n",
       "      <td>1</td>\n",
       "      <td>0</td>\n",
       "      <td>0</td>\n",
       "      <td>East Asia</td>\n",
       "      <td>Fukouka</td>\n",
       "      <td>Fukouka</td>\n",
       "      <td>0</td>\n",
       "      <td>1</td>\n",
       "      <td>0</td>\n",
       "      <td>Facility/Infrastructure Attack</td>\n",
       "      <td>Government (Diplomatic)</td>\n",
       "      <td>Embassy/Consulate</td>\n",
       "      <td>United States</td>\n",
       "      <td>Incendiary</td>\n",
       "      <td>NaN</td>\n",
       "      <td>PGIS</td>\n",
       "    </tr>\n",
       "  </tbody>\n",
       "</table>\n",
       "</div>"
      ],
      "text/plain": [
       "   iyear  imonth  iday  extended                   region_txt provstate  \\\n",
       "0   1970       7     2         0  Central America & Caribbean       NaN   \n",
       "1   1970       0     0         0                North America   Federal   \n",
       "2   1970       1     0         0               Southeast Asia    Tarlac   \n",
       "3   1970       1     0         0               Western Europe    Attica   \n",
       "4   1970       1     0         0                    East Asia   Fukouka   \n",
       "\n",
       "            city  vicinity  success  suicide                 attacktype1_txt  \\\n",
       "0  Santo Domingo         0        1        0                   Assassination   \n",
       "1    Mexico city         0        1        0     Hostage Taking (Kidnapping)   \n",
       "2        Unknown         0        1        0                   Assassination   \n",
       "3         Athens         0        1        0               Bombing/Explosion   \n",
       "4        Fukouka         0        1        0  Facility/Infrastructure Attack   \n",
       "\n",
       "                 targtype1_txt  \\\n",
       "0  Private Citizens & Property   \n",
       "1      Government (Diplomatic)   \n",
       "2          Journalists & Media   \n",
       "3      Government (Diplomatic)   \n",
       "4      Government (Diplomatic)   \n",
       "\n",
       "                                    targsubtype1_txt         natlty1_txt  \\\n",
       "0                                     Named Civilian  Dominican Republic   \n",
       "1  Diplomatic Personnel (outside of embassy, cons...             Belgium   \n",
       "2                    Radio Journalist/Staff/Facility       United States   \n",
       "3                                  Embassy/Consulate       United States   \n",
       "4                                  Embassy/Consulate       United States   \n",
       "\n",
       "  weaptype1_txt        weapsubtype1_txt dbsource  \n",
       "0       Unknown                     NaN     PGIS  \n",
       "1       Unknown                     NaN     PGIS  \n",
       "2       Unknown                     NaN     PGIS  \n",
       "3    Explosives  Unknown Explosive Type     PGIS  \n",
       "4    Incendiary                     NaN     PGIS  "
      ]
     },
     "execution_count": 8,
     "metadata": {},
     "output_type": "execute_result"
    }
   ],
   "source": [
    "df_final.head()"
   ]
  },
  {
   "cell_type": "code",
   "execution_count": 9,
   "id": "36aaf2dc",
   "metadata": {},
   "outputs": [
    {
     "name": "stdout",
     "output_type": "stream",
     "text": [
      "weapsubtype1_txt    11.43\n",
      "targsubtype1_txt     5.71\n",
      "natlty1_txt          0.86\n",
      "city                 0.24\n",
      "provstate            0.23\n",
      "iyear                0.00\n",
      "attacktype1_txt      0.00\n",
      "weaptype1_txt        0.00\n",
      "targtype1_txt        0.00\n",
      "success              0.00\n",
      "suicide              0.00\n",
      "imonth               0.00\n",
      "vicinity             0.00\n",
      "region_txt           0.00\n",
      "extended             0.00\n",
      "iday                 0.00\n",
      "dbsource             0.00\n",
      "dtype: float64\n"
     ]
    }
   ],
   "source": [
    "#Missing values\n",
    "def missing(dff):\n",
    "    print (round((dff.isnull().sum() * 100/ len(dff)),2).sort_values(ascending=False))\n",
    "missing(df_final)"
   ]
  },
  {
   "cell_type": "markdown",
   "id": "7994bcc5",
   "metadata": {},
   "source": [
    "# Data Cleaning"
   ]
  },
  {
   "cell_type": "code",
   "execution_count": 10,
   "id": "51aee68c",
   "metadata": {},
   "outputs": [
    {
     "data": {
      "text/html": [
       "<div>\n",
       "<style scoped>\n",
       "    .dataframe tbody tr th:only-of-type {\n",
       "        vertical-align: middle;\n",
       "    }\n",
       "\n",
       "    .dataframe tbody tr th {\n",
       "        vertical-align: top;\n",
       "    }\n",
       "\n",
       "    .dataframe thead th {\n",
       "        text-align: right;\n",
       "    }\n",
       "</style>\n",
       "<table border=\"1\" class=\"dataframe\">\n",
       "  <thead>\n",
       "    <tr style=\"text-align: right;\">\n",
       "      <th></th>\n",
       "      <th>iyear</th>\n",
       "      <th>imonth</th>\n",
       "      <th>iday</th>\n",
       "      <th>extended</th>\n",
       "      <th>vicinity</th>\n",
       "      <th>success</th>\n",
       "      <th>suicide</th>\n",
       "    </tr>\n",
       "  </thead>\n",
       "  <tbody>\n",
       "    <tr>\n",
       "      <th>count</th>\n",
       "      <td>181691.000000</td>\n",
       "      <td>181691.000000</td>\n",
       "      <td>181691.000000</td>\n",
       "      <td>181691.000000</td>\n",
       "      <td>181691.000000</td>\n",
       "      <td>181691.000000</td>\n",
       "      <td>181691.000000</td>\n",
       "    </tr>\n",
       "    <tr>\n",
       "      <th>mean</th>\n",
       "      <td>2002.638997</td>\n",
       "      <td>6.467277</td>\n",
       "      <td>15.505644</td>\n",
       "      <td>0.045346</td>\n",
       "      <td>0.068297</td>\n",
       "      <td>0.889598</td>\n",
       "      <td>0.036507</td>\n",
       "    </tr>\n",
       "    <tr>\n",
       "      <th>std</th>\n",
       "      <td>13.259430</td>\n",
       "      <td>3.388303</td>\n",
       "      <td>8.814045</td>\n",
       "      <td>0.208063</td>\n",
       "      <td>0.284553</td>\n",
       "      <td>0.313391</td>\n",
       "      <td>0.187549</td>\n",
       "    </tr>\n",
       "    <tr>\n",
       "      <th>min</th>\n",
       "      <td>1970.000000</td>\n",
       "      <td>0.000000</td>\n",
       "      <td>0.000000</td>\n",
       "      <td>0.000000</td>\n",
       "      <td>-9.000000</td>\n",
       "      <td>0.000000</td>\n",
       "      <td>0.000000</td>\n",
       "    </tr>\n",
       "    <tr>\n",
       "      <th>25%</th>\n",
       "      <td>1991.000000</td>\n",
       "      <td>4.000000</td>\n",
       "      <td>8.000000</td>\n",
       "      <td>0.000000</td>\n",
       "      <td>0.000000</td>\n",
       "      <td>1.000000</td>\n",
       "      <td>0.000000</td>\n",
       "    </tr>\n",
       "    <tr>\n",
       "      <th>50%</th>\n",
       "      <td>2009.000000</td>\n",
       "      <td>6.000000</td>\n",
       "      <td>15.000000</td>\n",
       "      <td>0.000000</td>\n",
       "      <td>0.000000</td>\n",
       "      <td>1.000000</td>\n",
       "      <td>0.000000</td>\n",
       "    </tr>\n",
       "    <tr>\n",
       "      <th>75%</th>\n",
       "      <td>2014.000000</td>\n",
       "      <td>9.000000</td>\n",
       "      <td>23.000000</td>\n",
       "      <td>0.000000</td>\n",
       "      <td>0.000000</td>\n",
       "      <td>1.000000</td>\n",
       "      <td>0.000000</td>\n",
       "    </tr>\n",
       "    <tr>\n",
       "      <th>max</th>\n",
       "      <td>2017.000000</td>\n",
       "      <td>12.000000</td>\n",
       "      <td>31.000000</td>\n",
       "      <td>1.000000</td>\n",
       "      <td>1.000000</td>\n",
       "      <td>1.000000</td>\n",
       "      <td>1.000000</td>\n",
       "    </tr>\n",
       "  </tbody>\n",
       "</table>\n",
       "</div>"
      ],
      "text/plain": [
       "               iyear         imonth           iday       extended  \\\n",
       "count  181691.000000  181691.000000  181691.000000  181691.000000   \n",
       "mean     2002.638997       6.467277      15.505644       0.045346   \n",
       "std        13.259430       3.388303       8.814045       0.208063   \n",
       "min      1970.000000       0.000000       0.000000       0.000000   \n",
       "25%      1991.000000       4.000000       8.000000       0.000000   \n",
       "50%      2009.000000       6.000000      15.000000       0.000000   \n",
       "75%      2014.000000       9.000000      23.000000       0.000000   \n",
       "max      2017.000000      12.000000      31.000000       1.000000   \n",
       "\n",
       "            vicinity        success        suicide  \n",
       "count  181691.000000  181691.000000  181691.000000  \n",
       "mean        0.068297       0.889598       0.036507  \n",
       "std         0.284553       0.313391       0.187549  \n",
       "min        -9.000000       0.000000       0.000000  \n",
       "25%         0.000000       1.000000       0.000000  \n",
       "50%         0.000000       1.000000       0.000000  \n",
       "75%         0.000000       1.000000       0.000000  \n",
       "max         1.000000       1.000000       1.000000  "
      ]
     },
     "execution_count": 10,
     "metadata": {},
     "output_type": "execute_result"
    }
   ],
   "source": [
    "df_final.describe()"
   ]
  },
  {
   "cell_type": "markdown",
   "id": "c4b6edc9",
   "metadata": {},
   "source": [
    "-> On an average, **3.6%** of terrorism were considered as **suicide** <br>\n",
    "-> Also **11.1%** of terrorism were failed to attack<br>\n",
    "-> One of the most noticeable thing is that, only **6%** of terrorism were happened **near buildings**, the rest **94% were at distance**"
   ]
  },
  {
   "cell_type": "markdown",
   "id": "c0bbdea4",
   "metadata": {},
   "source": [
    "## Missing Values Treatment <br>\n",
    "Since all the missing data are categorical, Use mode imputation to remove missing values"
   ]
  },
  {
   "cell_type": "code",
   "execution_count": 11,
   "id": "c7fda364",
   "metadata": {},
   "outputs": [
    {
     "data": {
      "text/plain": [
       "0    Unknown Explosive Type\n",
       "Name: weapsubtype1_txt, dtype: object"
      ]
     },
     "execution_count": 11,
     "metadata": {},
     "output_type": "execute_result"
    }
   ],
   "source": [
    "df_final['weapsubtype1_txt'].mode()"
   ]
  },
  {
   "cell_type": "code",
   "execution_count": 12,
   "id": "93548289",
   "metadata": {},
   "outputs": [],
   "source": [
    "df_final['weapsubtype1_txt'].fillna(\"Unknown Explosive Type\",inplace=True)"
   ]
  },
  {
   "cell_type": "code",
   "execution_count": 13,
   "id": "2295005e",
   "metadata": {},
   "outputs": [
    {
     "data": {
      "text/plain": [
       "0    Unnamed Civilian/Unspecified\n",
       "Name: targsubtype1_txt, dtype: object"
      ]
     },
     "execution_count": 13,
     "metadata": {},
     "output_type": "execute_result"
    }
   ],
   "source": [
    "df_final['targsubtype1_txt'].mode()"
   ]
  },
  {
   "cell_type": "code",
   "execution_count": 14,
   "id": "b1c34602",
   "metadata": {},
   "outputs": [],
   "source": [
    "df_final['targsubtype1_txt'].fillna(\"Unnamed Civilian/Unspecified\",inplace=True)"
   ]
  },
  {
   "cell_type": "code",
   "execution_count": 15,
   "id": "da0e83db",
   "metadata": {},
   "outputs": [
    {
     "data": {
      "text/plain": [
       "0    Iraq\n",
       "Name: natlty1_txt, dtype: object"
      ]
     },
     "execution_count": 15,
     "metadata": {},
     "output_type": "execute_result"
    }
   ],
   "source": [
    "df_final['natlty1_txt'].mode()"
   ]
  },
  {
   "cell_type": "code",
   "execution_count": 16,
   "id": "f1f62724",
   "metadata": {},
   "outputs": [],
   "source": [
    "df_final['natlty1_txt'].fillna(\"Iraq\",inplace=True)"
   ]
  },
  {
   "cell_type": "code",
   "execution_count": 17,
   "id": "9cee3a95",
   "metadata": {},
   "outputs": [
    {
     "data": {
      "text/plain": [
       "0    Baghdad\n",
       "Name: provstate, dtype: object"
      ]
     },
     "execution_count": 17,
     "metadata": {},
     "output_type": "execute_result"
    }
   ],
   "source": [
    "df_final['provstate'].mode()"
   ]
  },
  {
   "cell_type": "code",
   "execution_count": 18,
   "id": "37dc060a",
   "metadata": {},
   "outputs": [],
   "source": [
    "df_final['provstate'].fillna(\"Baghdad\",inplace=True)"
   ]
  },
  {
   "cell_type": "code",
   "execution_count": 19,
   "id": "c2f33e1a",
   "metadata": {
    "scrolled": true
   },
   "outputs": [
    {
     "data": {
      "text/plain": [
       "0    Unknown\n",
       "Name: city, dtype: object"
      ]
     },
     "execution_count": 19,
     "metadata": {},
     "output_type": "execute_result"
    }
   ],
   "source": [
    "df_final['city'].mode()"
   ]
  },
  {
   "cell_type": "code",
   "execution_count": 20,
   "id": "c51b4a04",
   "metadata": {},
   "outputs": [],
   "source": [
    "df_final['city'].fillna(\"city\",inplace=True)"
   ]
  },
  {
   "cell_type": "code",
   "execution_count": 21,
   "id": "1c692c1f",
   "metadata": {
    "scrolled": true
   },
   "outputs": [
    {
     "name": "stdout",
     "output_type": "stream",
     "text": [
      "iyear               0.0\n",
      "suicide             0.0\n",
      "weapsubtype1_txt    0.0\n",
      "weaptype1_txt       0.0\n",
      "natlty1_txt         0.0\n",
      "targsubtype1_txt    0.0\n",
      "targtype1_txt       0.0\n",
      "attacktype1_txt     0.0\n",
      "success             0.0\n",
      "imonth              0.0\n",
      "vicinity            0.0\n",
      "city                0.0\n",
      "provstate           0.0\n",
      "region_txt          0.0\n",
      "extended            0.0\n",
      "iday                0.0\n",
      "dbsource            0.0\n",
      "dtype: float64\n"
     ]
    }
   ],
   "source": [
    "#Missing values\n",
    "def missing(dff):\n",
    "    print (round((dff.isnull().sum() * 100/ len(dff)),2).sort_values(ascending=False))\n",
    "missing(df_final)"
   ]
  },
  {
   "cell_type": "markdown",
   "id": "353bbcbc",
   "metadata": {},
   "source": [
    "# EDA"
   ]
  },
  {
   "cell_type": "markdown",
   "id": "5fb73749",
   "metadata": {},
   "source": [
    "## Univariate Analysis"
   ]
  },
  {
   "cell_type": "code",
   "execution_count": 22,
   "id": "cc42d029",
   "metadata": {},
   "outputs": [
    {
     "data": {
      "image/png": "[encoded data removed]",
      "text/plain": [
       "<Figure size 1800x576 with 1 Axes>"
      ]
     },
     "metadata": {
      "needs_background": "light"
     },
     "output_type": "display_data"
    }
   ],
   "source": [
    "plt.figure(figsize=(25,8))\n",
    "sns.countplot(x = 'iyear', data = df_final)\n",
    "plt.title('Year wise terrorism',size=18)\n",
    "plt.xlabel('Sex',size=14)\n",
    "plt.show()"
   ]
  },
  {
   "cell_type": "code",
   "execution_count": 23,
   "id": "343b63fc",
   "metadata": {},
   "outputs": [
    {
     "data": {
      "image/png": "[encoded data removed]",
      "text/plain": [
       "<Figure size 720x432 with 1 Axes>"
      ]
     },
     "metadata": {
      "needs_background": "light"
     },
     "output_type": "display_data"
    }
   ],
   "source": [
    "plt.figure(figsize=(10,6))\n",
    "sns.violinplot(x=df_final['iyear'])\n",
    "plt.title('Year wise terrorism',size=18)\n",
    "plt.xlabel('Year',size=14)\n",
    "plt.show()\n"
   ]
  },
  {
   "cell_type": "code",
   "execution_count": 24,
   "id": "626bb608",
   "metadata": {},
   "outputs": [
    {
     "data": {
      "image/png": "[encoded data removed]",
      "text/plain": [
       "<Figure size 720x432 with 1 Axes>"
      ]
     },
     "metadata": {
      "needs_background": "light"
     },
     "output_type": "display_data"
    }
   ],
   "source": [
    "plt.figure(figsize=(10,6))\n",
    "sns.countplot(x = 'imonth', data = df_final)\n",
    "plt.title('Month wise terrorism',size=18)\n",
    "plt.xlabel('Month',size=14)\n",
    "plt.show()"
   ]
  },
  {
   "cell_type": "code",
   "execution_count": 25,
   "id": "25e59412",
   "metadata": {},
   "outputs": [
    {
     "data": {
      "image/png": "[encoded data removed]",
      "text/plain": [
       "<Figure size 720x432 with 1 Axes>"
      ]
     },
     "metadata": {
      "needs_background": "light"
     },
     "output_type": "display_data"
    }
   ],
   "source": [
    "plt.figure(figsize=(10,6))\n",
    "sns.countplot(x = 'success', data = df_final)\n",
    "plt.title('Terrorism success',size=18)\n",
    "plt.xlabel('Yes/No',size=14)\n",
    "plt.show()"
   ]
  },
  {
   "cell_type": "code",
   "execution_count": 26,
   "id": "cb723fc6",
   "metadata": {},
   "outputs": [
    {
     "data": {
      "image/png": "[encoded data removed]",
      "text/plain": [
       "<Figure size 720x432 with 1 Axes>"
      ]
     },
     "metadata": {
      "needs_background": "light"
     },
     "output_type": "display_data"
    }
   ],
   "source": [
    "plt.figure(figsize=(10,6))\n",
    "sns.countplot(x = 'suicide', data = df_final)\n",
    "plt.title('Is it suicide?',size=18)\n",
    "plt.xlabel('Yes/No',size=14)\n",
    "plt.show()"
   ]
  },
  {
   "cell_type": "code",
   "execution_count": 27,
   "id": "3781b456",
   "metadata": {},
   "outputs": [
    {
     "data": {
      "image/png": "[encoded data removed]",
      "text/plain": [
       "<Figure size 720x432 with 1 Axes>"
      ]
     },
     "metadata": {
      "needs_background": "light"
     },
     "output_type": "display_data"
    }
   ],
   "source": [
    "plt.figure(figsize=(10,6))\n",
    "sns.histplot(df_final.iyear)\n",
    "plt.title('Year Distribution',size=18)\n",
    "plt.xlabel('Year',size=14)\n",
    "plt.ylabel('Count',size=14)\n",
    "plt.show()"
   ]
  },
  {
   "cell_type": "code",
   "execution_count": 28,
   "id": "ccd260b9",
   "metadata": {},
   "outputs": [
    {
     "data": {
      "image/png": "[encoded data removed]",
      "text/plain": [
       "<Figure size 720x432 with 1 Axes>"
      ]
     },
     "metadata": {
      "needs_background": "light"
     },
     "output_type": "display_data"
    }
   ],
   "source": [
    "plt.figure(figsize=(10,6))\n",
    "sns.countplot(x = 'vicinity', data = df_final)\n",
    "plt.title('Terrorism vicinity',size=18)\n",
    "plt.xlabel('Yes/No',size=14)\n",
    "plt.show()"
   ]
  },
  {
   "cell_type": "code",
   "execution_count": 29,
   "id": "985d94ac",
   "metadata": {
    "scrolled": true
   },
   "outputs": [
    {
     "data": {
      "image/png": "[encoded data removed]",
      "text/plain": [
       "<Figure size 1080x432 with 1 Axes>"
      ]
     },
     "metadata": {
      "needs_background": "light"
     },
     "output_type": "display_data"
    }
   ],
   "source": [
    "plt.figure(figsize=(15,6))\n",
    "sns.countplot(x = 'attacktype1_txt', data = df_final,order=df_final['attacktype1_txt'].value_counts().iloc[:5].index)\n",
    "plt.title('Top 5 Attacks',size=18)\n",
    "plt.xlabel('Attack type',size=14)\n",
    "plt.show()"
   ]
  },
  {
   "cell_type": "markdown",
   "id": "fe40134b",
   "metadata": {},
   "source": [
    "# Bombing/Explosing - Detailed Insight\n",
    "\n",
    "### Bombing is the most used attack. Lets look into the detailed insights of bombs attack"
   ]
  },
  {
   "cell_type": "code",
   "execution_count": 30,
   "id": "d1f264c8",
   "metadata": {},
   "outputs": [],
   "source": [
    "bomb = df_final[df_final['attacktype1_txt'] == 'Bombing/Explosion']"
   ]
  },
  {
   "cell_type": "code",
   "execution_count": 31,
   "id": "05d1fb8e",
   "metadata": {
    "scrolled": true
   },
   "outputs": [
    {
     "data": {
      "text/html": [
       "<div>\n",
       "<style scoped>\n",
       "    .dataframe tbody tr th:only-of-type {\n",
       "        vertical-align: middle;\n",
       "    }\n",
       "\n",
       "    .dataframe tbody tr th {\n",
       "        vertical-align: top;\n",
       "    }\n",
       "\n",
       "    .dataframe thead th {\n",
       "        text-align: right;\n",
       "    }\n",
       "</style>\n",
       "<table border=\"1\" class=\"dataframe\">\n",
       "  <thead>\n",
       "    <tr style=\"text-align: right;\">\n",
       "      <th></th>\n",
       "      <th>iyear</th>\n",
       "      <th>imonth</th>\n",
       "      <th>iday</th>\n",
       "      <th>extended</th>\n",
       "      <th>region_txt</th>\n",
       "      <th>provstate</th>\n",
       "      <th>city</th>\n",
       "      <th>vicinity</th>\n",
       "      <th>success</th>\n",
       "      <th>suicide</th>\n",
       "      <th>attacktype1_txt</th>\n",
       "      <th>targtype1_txt</th>\n",
       "      <th>targsubtype1_txt</th>\n",
       "      <th>natlty1_txt</th>\n",
       "      <th>weaptype1_txt</th>\n",
       "      <th>weapsubtype1_txt</th>\n",
       "      <th>dbsource</th>\n",
       "    </tr>\n",
       "  </thead>\n",
       "  <tbody>\n",
       "    <tr>\n",
       "      <th>3</th>\n",
       "      <td>1970</td>\n",
       "      <td>1</td>\n",
       "      <td>0</td>\n",
       "      <td>0</td>\n",
       "      <td>Western Europe</td>\n",
       "      <td>Attica</td>\n",
       "      <td>Athens</td>\n",
       "      <td>0</td>\n",
       "      <td>1</td>\n",
       "      <td>0</td>\n",
       "      <td>Bombing/Explosion</td>\n",
       "      <td>Government (Diplomatic)</td>\n",
       "      <td>Embassy/Consulate</td>\n",
       "      <td>United States</td>\n",
       "      <td>Explosives</td>\n",
       "      <td>Unknown Explosive Type</td>\n",
       "      <td>PGIS</td>\n",
       "    </tr>\n",
       "    <tr>\n",
       "      <th>7</th>\n",
       "      <td>1970</td>\n",
       "      <td>1</td>\n",
       "      <td>2</td>\n",
       "      <td>0</td>\n",
       "      <td>North America</td>\n",
       "      <td>California</td>\n",
       "      <td>Oakland</td>\n",
       "      <td>0</td>\n",
       "      <td>1</td>\n",
       "      <td>0</td>\n",
       "      <td>Bombing/Explosion</td>\n",
       "      <td>Utilities</td>\n",
       "      <td>Electricity</td>\n",
       "      <td>United States</td>\n",
       "      <td>Explosives</td>\n",
       "      <td>Unknown Explosive Type</td>\n",
       "      <td>Hewitt Project</td>\n",
       "    </tr>\n",
       "    <tr>\n",
       "      <th>10</th>\n",
       "      <td>1970</td>\n",
       "      <td>1</td>\n",
       "      <td>1</td>\n",
       "      <td>0</td>\n",
       "      <td>North America</td>\n",
       "      <td>Wisconsin</td>\n",
       "      <td>Baraboo</td>\n",
       "      <td>0</td>\n",
       "      <td>0</td>\n",
       "      <td>0</td>\n",
       "      <td>Bombing/Explosion</td>\n",
       "      <td>Military</td>\n",
       "      <td>Military Barracks/Base/Headquarters/Checkpost</td>\n",
       "      <td>United States</td>\n",
       "      <td>Explosives</td>\n",
       "      <td>Unknown Explosive Type</td>\n",
       "      <td>PGIS</td>\n",
       "    </tr>\n",
       "    <tr>\n",
       "      <th>15</th>\n",
       "      <td>1970</td>\n",
       "      <td>1</td>\n",
       "      <td>10</td>\n",
       "      <td>0</td>\n",
       "      <td>Eastern Europe</td>\n",
       "      <td>Berlin</td>\n",
       "      <td>Berlin</td>\n",
       "      <td>0</td>\n",
       "      <td>1</td>\n",
       "      <td>0</td>\n",
       "      <td>Bombing/Explosion</td>\n",
       "      <td>Government (General)</td>\n",
       "      <td>Unnamed Civilian/Unspecified</td>\n",
       "      <td>Germany</td>\n",
       "      <td>Explosives</td>\n",
       "      <td>Unknown Explosive Type</td>\n",
       "      <td>PGIS</td>\n",
       "    </tr>\n",
       "    <tr>\n",
       "      <th>17</th>\n",
       "      <td>1970</td>\n",
       "      <td>1</td>\n",
       "      <td>12</td>\n",
       "      <td>0</td>\n",
       "      <td>North America</td>\n",
       "      <td>New York</td>\n",
       "      <td>New York City</td>\n",
       "      <td>0</td>\n",
       "      <td>1</td>\n",
       "      <td>0</td>\n",
       "      <td>Bombing/Explosion</td>\n",
       "      <td>Educational Institution</td>\n",
       "      <td>School/University/Educational Building</td>\n",
       "      <td>United States</td>\n",
       "      <td>Explosives</td>\n",
       "      <td>Pipe Bomb</td>\n",
       "      <td>Hewitt Project</td>\n",
       "    </tr>\n",
       "  </tbody>\n",
       "</table>\n",
       "</div>"
      ],
      "text/plain": [
       "    iyear  imonth  iday  extended      region_txt   provstate           city  \\\n",
       "3    1970       1     0         0  Western Europe      Attica         Athens   \n",
       "7    1970       1     2         0   North America  California        Oakland   \n",
       "10   1970       1     1         0   North America   Wisconsin        Baraboo   \n",
       "15   1970       1    10         0  Eastern Europe      Berlin         Berlin   \n",
       "17   1970       1    12         0   North America    New York  New York City   \n",
       "\n",
       "    vicinity  success  suicide    attacktype1_txt            targtype1_txt  \\\n",
       "3          0        1        0  Bombing/Explosion  Government (Diplomatic)   \n",
       "7          0        1        0  Bombing/Explosion                Utilities   \n",
       "10         0        0        0  Bombing/Explosion                 Military   \n",
       "15         0        1        0  Bombing/Explosion     Government (General)   \n",
       "17         0        1        0  Bombing/Explosion  Educational Institution   \n",
       "\n",
       "                                 targsubtype1_txt    natlty1_txt  \\\n",
       "3                               Embassy/Consulate  United States   \n",
       "7                                     Electricity  United States   \n",
       "10  Military Barracks/Base/Headquarters/Checkpost  United States   \n",
       "15                   Unnamed Civilian/Unspecified        Germany   \n",
       "17         School/University/Educational Building  United States   \n",
       "\n",
       "   weaptype1_txt        weapsubtype1_txt        dbsource  \n",
       "3     Explosives  Unknown Explosive Type            PGIS  \n",
       "7     Explosives  Unknown Explosive Type  Hewitt Project  \n",
       "10    Explosives  Unknown Explosive Type            PGIS  \n",
       "15    Explosives  Unknown Explosive Type            PGIS  \n",
       "17    Explosives               Pipe Bomb  Hewitt Project  "
      ]
     },
     "execution_count": 31,
     "metadata": {},
     "output_type": "execute_result"
    }
   ],
   "source": [
    "bomb.head()"
   ]
  },
  {
   "cell_type": "code",
   "execution_count": 32,
   "id": "bed5a59d",
   "metadata": {},
   "outputs": [
    {
     "data": {
      "text/plain": [
       "(88255, 17)"
      ]
     },
     "execution_count": 32,
     "metadata": {},
     "output_type": "execute_result"
    }
   ],
   "source": [
    "bomb.shape"
   ]
  },
  {
   "cell_type": "code",
   "execution_count": 33,
   "id": "56db59a6",
   "metadata": {},
   "outputs": [
    {
     "data": {
      "image/png": "[encoded data removed]",
      "text/plain": [
       "<Figure size 1080x432 with 1 Axes>"
      ]
     },
     "metadata": {
      "needs_background": "light"
     },
     "output_type": "display_data"
    }
   ],
   "source": [
    "plt.figure(figsize=(15,6))\n",
    "sns.countplot(x = 'natlty1_txt', data = bomb,order=bomb['natlty1_txt'].value_counts().iloc[:5].index)\n",
    "plt.title('Top 5 Bomb Attacking Nationality',size=18)\n",
    "plt.xlabel(\"Nationality\",size=14)\n",
    "plt.show()"
   ]
  },
  {
   "cell_type": "code",
   "execution_count": 34,
   "id": "92d08430",
   "metadata": {},
   "outputs": [
    {
     "data": {
      "image/png": "[encoded data removed]",
      "text/plain": [
       "<Figure size 1080x432 with 1 Axes>"
      ]
     },
     "metadata": {
      "needs_background": "light"
     },
     "output_type": "display_data"
    }
   ],
   "source": [
    "plt.figure(figsize=(15,6))\n",
    "sns.countplot(x = 'targtype1_txt', data = bomb,order=bomb['targtype1_txt'].value_counts().iloc[:5].index)\n",
    "plt.title('Top 5 Bomb Attacking Targets',size=18)\n",
    "plt.xlabel(\"Target\",size=14)\n",
    "plt.show()"
   ]
  },
  {
   "cell_type": "code",
   "execution_count": 35,
   "id": "c85a6234",
   "metadata": {},
   "outputs": [
    {
     "data": {
      "image/png": "[encoded data removed]",
      "text/plain": [
       "<Figure size 1080x432 with 1 Axes>"
      ]
     },
     "metadata": {
      "needs_background": "light"
     },
     "output_type": "display_data"
    }
   ],
   "source": [
    "plt.figure(figsize=(15,6))\n",
    "sns.countplot(x = 'targtype1_txt', data = df,order=df['targtype1_txt'].value_counts().iloc[:5].index)\n",
    "plt.title('Top 5 Targets',size=18)\n",
    "plt.xlabel('Target type',size=14)\n",
    "plt.show()"
   ]
  },
  {
   "cell_type": "markdown",
   "id": "70b08f79",
   "metadata": {},
   "source": [
    "# Conclusion [From Above Insights]:\n"
   ]
  },
  {
   "cell_type": "raw",
   "id": "d04b5f2b",
   "metadata": {},
   "source": [
    "Least Attacks[Year]       =        1971\n",
    "Least Attacks[Month]      =        December\n",
    "Most Attacks [Year]       =        2014\n",
    "Most Attacks [Month]      =        May\n",
    "Frequently Used Method    =        Bombing/Explosion\n",
    "Top Targets               =        Private Citizens & Property\n"
   ]
  }
 ],
 "metadata": {
  "kernelspec": {
   "display_name": "Python 3 (ipykernel)",
   "language": "python",
   "name": "python3"
  },
  "language_info": {
   "codemirror_mode": {
    "name": "ipython",
    "version": 3
   },
   "file_extension": ".py",
   "mimetype": "text/x-python",
   "name": "python",
   "nbconvert_exporter": "python",
   "pygments_lexer": "ipython3",
   "version": "3.9.7"
  }
 },
 "nbformat": 4,
 "nbformat_minor": 5
}
